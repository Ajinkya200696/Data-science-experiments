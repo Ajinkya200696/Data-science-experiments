{
  "nbformat": 4,
  "nbformat_minor": 0,
  "metadata": {
    "colab": {
      "provenance": []
    },
    "kernelspec": {
      "name": "python3",
      "display_name": "Python 3"
    },
    "language_info": {
      "name": "python"
    }
  },
  "cells": [
    {
      "cell_type": "markdown",
      "source": [
        "Embedded technique part 1"
      ],
      "metadata": {
        "id": "pmZcRtUMtuQg"
      }
    },
    {
      "cell_type": "code",
      "source": [
        "import pandas as pd\n",
        "from sklearn.linear_model import Lasso\n",
        "from sklearn.preprocessing import StandardScaler\n",
        "import numpy as np\n",
        "\n",
        "# Load red wine dataset\n",
        "url = \"https://archive.ics.uci.edu/ml/machine-learning-databases/wine-quality/winequality-red.csv\"\n",
        "df = pd.read_csv(url, delimiter=';')\n",
        "\n",
        "# Separate features and target\n",
        "X = df.drop('quality', axis=1)\n",
        "y = df['quality']\n",
        "\n",
        "# Standardize the data\n",
        "scaler = StandardScaler()\n",
        "X_scaled = scaler.fit_transform(X)\n",
        "\n",
        "# Apply Lasso\n",
        "lasso = Lasso(alpha=0.01)\n",
        "lasso.fit(X_scaled, y)\n",
        "\n",
        "# Get selected features\n",
        "selected_features_lasso = X.columns[lasso.coef_ != 0]\n",
        "print(\"Features selected by Lasso:\")\n",
        "print(selected_features_lasso.tolist())\n"
      ],
      "metadata": {
        "colab": {
          "base_uri": "https://localhost:8080/"
        },
        "id": "GGQY4PollgdG",
        "outputId": "a8315d96-f0fc-4583-a3d8-ad9e8a97acf1"
      },
      "execution_count": 3,
      "outputs": [
        {
          "output_type": "stream",
          "name": "stdout",
          "text": [
            "Features selected by Lasso:\n",
            "['volatile acidity', 'residual sugar', 'chlorides', 'free sulfur dioxide', 'total sulfur dioxide', 'pH', 'sulphates', 'alcohol']\n"
          ]
        }
      ]
    },
    {
      "cell_type": "markdown",
      "source": [
        "Embedded technique part 2"
      ],
      "metadata": {
        "id": "jI1-uuj4t8sp"
      }
    },
    {
      "cell_type": "code",
      "source": [
        "import pandas as pd\n",
        "from sklearn.ensemble import RandomForestClassifier\n",
        "import numpy as np\n",
        "\n",
        "# Load red wine dataset\n",
        "url = \"https://archive.ics.uci.edu/ml/machine-learning-databases/wine-quality/winequality-red.csv\"\n",
        "df = pd.read_csv(url, delimiter=';')\n",
        "\n",
        "# Separate features and target\n",
        "X = df.drop('quality', axis=1)\n",
        "y = df['quality']\n",
        "\n",
        "# Train Random Forest\n",
        "rf = RandomForestClassifier(random_state=42)\n",
        "rf.fit(X, y)\n",
        "\n",
        "# Calculate feature importance\n",
        "importances = rf.feature_importances_\n",
        "threshold = np.mean(importances)\n",
        "\n",
        "# Select features above the threshold\n",
        "selected_features_rf = X.columns[importances > threshold]\n",
        "print(\"Features selected by Random Forest:\")\n",
        "print(selected_features_rf.tolist())"
      ],
      "metadata": {
        "id": "rgi8_hpU41Ib",
        "colab": {
          "base_uri": "https://localhost:8080/"
        },
        "outputId": "6db92165-ad18-411b-e2f2-9798622a917e"
      },
      "execution_count": 4,
      "outputs": [
        {
          "output_type": "stream",
          "name": "stdout",
          "text": [
            "Features selected by Random Forest:\n",
            "['volatile acidity', 'total sulfur dioxide', 'sulphates', 'alcohol']\n"
          ]
        }
      ]
    }
  ]
}